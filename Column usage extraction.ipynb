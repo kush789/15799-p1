{
 "cells": [
  {
   "cell_type": "code",
   "execution_count": 1,
   "id": "c36732f8",
   "metadata": {},
   "outputs": [],
   "source": [
    "import sqlparse\n",
    "import csv\n",
    "import re\n",
    "from collections import defaultdict\n",
    "from sql_metadata import Parser\n",
    "import pprint\n",
    "\n",
    "from column_usage import get_column_usage_from_logs, parse_simple_logs, get_where_usage\n",
    "from index_generation import generate_all_indexes, prune_indexes, generate_create_index_commands"
   ]
  },
  {
   "cell_type": "markdown",
   "id": "fe4cf2ad",
   "metadata": {},
   "source": [
    "# (i) Epinions"
   ]
  },
  {
   "cell_type": "markdown",
   "id": "8c1de589",
   "metadata": {},
   "source": [
    "### Scale factor = 1000\n",
    "```\n",
    " Schema |     Name     | Type  |    Owner     | Persistence | Access method |  Size   | Description \n",
    "--------+--------------+-------+--------------+-------------+---------------+---------+-------------\n",
    " public | observations | table | project1user | permanent   | heap          | 5746 MB | \n",
    " public | sessions     | table | project1user | permanent   | heap          | 784 kB  | \n",
    " public | sources      | table | project1user | permanent   | heap          | 208 kB  | \n",
    " public | types        | table | project1user | permanent   | heap          | 1464 kB | \n",
    "```"
   ]
  },
  {
   "cell_type": "markdown",
   "id": "a9042d16",
   "metadata": {},
   "source": [
    "### Without index\n",
    "```\n",
    "{\n",
    " \"scalefactor\": \"100\",\n",
    " \"Current Timestamp (milliseconds)\": 1645652423106,\n",
    " \"Benchmark Type\": \"epinions\",\n",
    " \"isolation\": \"TRANSACTION_READ_COMMITTED\",\n",
    " \"DBMS Version\": \"PostgreSQL 14.2 (Ubuntu 14.2-1.pgdg20.04+1) on x86_64-pc-linux-gnu, compiled by gcc (Ubuntu 9.3.0-17ubuntu1~20.04) 9.3.0, 64-bit\",\n",
    " \"Goodput (requests/second)\": 19.59045481317814,\n",
    " \"terminals\": \"1\",\n",
    " \"DBMS Type\": \"POSTGRES\",\n",
    " \"Latency Distribution\": {\n",
    "  \"95th Percentile Latency (microseconds)\": 161233,\n",
    "  \"Maximum Latency (microseconds)\": 165597,\n",
    "  \"Median Latency (microseconds)\": 47476,\n",
    "  \"Minimum Latency (microseconds)\": 10717,\n",
    "  \"25th Percentile Latency (microseconds)\": 19026,\n",
    "  \"90th Percentile Latency (microseconds)\": 77681,\n",
    "  \"99th Percentile Latency (microseconds)\": 162937,\n",
    "  \"75th Percentile Latency (microseconds)\": 57150,\n",
    "  \"Average Latency (microseconds)\": 51774\n",
    " },\n",
    " \"Throughput (requests/second)\": 19.262581092455495\n",
    "}\n",
    "```"
   ]
  },
  {
   "cell_type": "code",
   "execution_count": null,
   "id": "fe0d124a",
   "metadata": {},
   "outputs": [],
   "source": [
    "log_file_path = \"data/epinions_scale_100_rate_unlimited_time_60_simple.csv\"\n",
    "with open(log_file_path) as csvfile:\n",
    "    reader = csv.reader(csvfile, delimiter=',')\n",
    "    log_file_dataframe = list(map(lambda x : x[13], reader))"
   ]
  },
  {
   "cell_type": "code",
   "execution_count": null,
   "id": "bff32f07",
   "metadata": {},
   "outputs": [],
   "source": [
    "epinions_parsing_success, epinions_column_usage, epinions_where_predicates = parse_simple_logs(log_file_dataframe)"
   ]
  },
  {
   "cell_type": "code",
   "execution_count": null,
   "id": "24dbb999",
   "metadata": {},
   "outputs": [],
   "source": [
    "pprint.pprint(epinions_parsing_success)"
   ]
  },
  {
   "cell_type": "code",
   "execution_count": null,
   "id": "e4c36fde",
   "metadata": {},
   "outputs": [],
   "source": [
    "pprint.pprint(epinions_column_usage)"
   ]
  },
  {
   "cell_type": "code",
   "execution_count": null,
   "id": "d3072c9f",
   "metadata": {},
   "outputs": [],
   "source": [
    "pprint.pprint(epinions_where_predicates)"
   ]
  },
  {
   "cell_type": "markdown",
   "id": "9a248bce",
   "metadata": {},
   "source": [
    "### Adding single indices:\n",
    "\n",
    "`CREATE INDEX idx_rewview_iid ON review (i_id);`\n",
    "\n",
    "`CREATE INDEX idx_trust_sid ON trust (source_u_id);`\n",
    "\n",
    "`CREATE INDEX idx_trust_tid ON trust (target_u_id);`\n",
    "\n",
    "`CREATE INDEX idx_review_uid ON review (u_id);`\n",
    "\n",
    "`CREATE INDEX idx_item_iid ON item (i_id);`\n",
    "\n",
    "`CREATE INDEX idx_useracct_uid ON useracct (u_id);`\n",
    "\n",
    "\n",
    "```\n",
    "{\n",
    " \"scalefactor\": \"100\",\n",
    " \"Current Timestamp (milliseconds)\": 1645655337931,\n",
    " \"Benchmark Type\": \"epinions\",\n",
    " \"isolation\": \"TRANSACTION_READ_COMMITTED\",\n",
    " \"DBMS Version\": \"PostgreSQL 14.2 (Ubuntu 14.2-1.pgdg20.04+1) on x86_64-pc-linux-gnu, compiled by gcc (Ubuntu 9.3.0-17ubuntu1~20.04) 9.3.0, 64-bit\",\n",
    " \"Goodput (requests/second)\": 1997.9683018947728,\n",
    " \"terminals\": \"1\",\n",
    " \"DBMS Type\": \"POSTGRES\",\n",
    " \"Latency Distribution\": {\n",
    "  \"95th Percentile Latency (microseconds)\": 1211,\n",
    "  \"Maximum Latency (microseconds)\": 34752,\n",
    "  \"Median Latency (microseconds)\": 322,\n",
    "  \"Minimum Latency (microseconds)\": 109,\n",
    "  \"25th Percentile Latency (microseconds)\": 222,\n",
    "  \"90th Percentile Latency (microseconds)\": 1069,\n",
    "  \"99th Percentile Latency (microseconds)\": 1859,\n",
    "  \"75th Percentile Latency (microseconds)\": 739,\n",
    "  \"Average Latency (microseconds)\": 505\n",
    " },\n",
    " \"Throughput (requests/second)\": 1969.9516633065623\n",
    "}\n",
    "```"
   ]
  },
  {
   "cell_type": "code",
   "execution_count": null,
   "id": "58ce8230",
   "metadata": {},
   "outputs": [],
   "source": [
    "generate_create_index_commands(prune_indexes(generate_all_indexes(epinions_column_usage, epinions_where_predicates)))"
   ]
  },
  {
   "cell_type": "markdown",
   "id": "12d752de",
   "metadata": {},
   "source": [
    "### Adding multi indices:\n",
    "\n",
    "`CREATE INDEX idx_trust_comb ON trust (source_u_id, target_u_id);`\n",
    "\n",
    "`CREATE INDEX idx_review_comb ON review (i_id, u_id);`\n",
    "\n",
    "`CREATE INDEX idx_item_iid ON item (i_id);`\n",
    "\n",
    "`CREATE INDEX idx_useracct_uid ON useracct (u_id);`\n",
    "\n",
    "`CREATE INDEX idx_review_uid ON review (u_id);`\n",
    "\n",
    "`CREATE INDEX idx_trust_tid ON trust (target_u_id);`\n",
    "\n",
    "```\n",
    "{\n",
    " \"scalefactor\": \"100\",\n",
    " \"Current Timestamp (milliseconds)\": 1645657598501,\n",
    " \"Benchmark Type\": \"epinions\",\n",
    " \"isolation\": \"TRANSACTION_READ_COMMITTED\",\n",
    " \"DBMS Version\": \"PostgreSQL 14.2 (Ubuntu 14.2-1.pgdg20.04+1) on x86_64-pc-linux-gnu, compiled by gcc (Ubuntu 9.3.0-17ubuntu1~20.04) 9.3.0, 64-bit\",\n",
    " \"Goodput (requests/second)\": 2024.5618091032316,\n",
    " \"terminals\": \"1\",\n",
    " \"DBMS Type\": \"POSTGRES\",\n",
    " \"Latency Distribution\": {\n",
    "  \"95th Percentile Latency (microseconds)\": 1226,\n",
    "  \"Maximum Latency (microseconds)\": 35793,\n",
    "  \"Median Latency (microseconds)\": 312,\n",
    "  \"Minimum Latency (microseconds)\": 105,\n",
    "  \"25th Percentile Latency (microseconds)\": 211,\n",
    "  \"90th Percentile Latency (microseconds)\": 1070,\n",
    "  \"99th Percentile Latency (microseconds)\": 1902,\n",
    "  \"75th Percentile Latency (microseconds)\": 733,\n",
    "  \"Average Latency (microseconds)\": 499\n",
    " },\n",
    " \"Throughput (requests/second)\": 1991.4621610037952\n",
    "}\n",
    "```"
   ]
  },
  {
   "cell_type": "code",
   "execution_count": null,
   "id": "d78a627e",
   "metadata": {},
   "outputs": [],
   "source": []
  },
  {
   "cell_type": "code",
   "execution_count": null,
   "id": "a9447114",
   "metadata": {},
   "outputs": [],
   "source": []
  },
  {
   "cell_type": "code",
   "execution_count": null,
   "id": "86d078c8",
   "metadata": {},
   "outputs": [],
   "source": []
  },
  {
   "cell_type": "markdown",
   "id": "14786f4e",
   "metadata": {},
   "source": [
    "# (ii) Jungle"
   ]
  },
  {
   "cell_type": "markdown",
   "id": "fcedb318",
   "metadata": {},
   "source": [
    "### Scale factor = 1000\n",
    "```\n",
    " Schema |     Name      | Type  |    Owner     | Persistence | Access method |  Size   | Description \n",
    "--------+---------------+-------+--------------+-------------+---------------+---------+-------------\n",
    " public | jungle        | table | project1user | permanent   | heap          | 6011 MB | \n",
    "```"
   ]
  },
  {
   "cell_type": "markdown",
   "id": "c2e8f3cf",
   "metadata": {},
   "source": [
    "### Without index\n",
    "\n",
    "```\n",
    "{\n",
    "    \"scalefactor\": \"1000\",\n",
    "    \"Current Timestamp (milliseconds)\": 1645468671728,\n",
    "    \"Benchmark Type\": \"indexjungle\",\n",
    "    \"isolation\": null,\n",
    "    \"DBMS Version\": \"PostgreSQL 14.2 (Ubuntu 14.2-1.pgdg20.04+1) on x86_64-pc-linux-gnu, compiled by gcc (Ubuntu 9.3.0-17ubuntu1~20.04) 9.3.0, 64-bit\",\n",
    "    \"Goodput (requests/second)\": 1.6112963871000103,\n",
    "    \"terminals\": \"1\",\n",
    "    \"DBMS Type\": \"POSTGRES\",\n",
    "    \"Latency Distribution\": {\n",
    "        \"95th Percentile Latency (microseconds)\": 632282,\n",
    "        \"Maximum Latency (microseconds)\": 646268,\n",
    "        \"Median Latency (microseconds)\": 623239,\n",
    "        \"Minimum Latency (microseconds)\": 607371,\n",
    "        \"25th Percentile Latency (microseconds)\": 619141,\n",
    "        \"90th Percentile Latency (microseconds)\": 630341,\n",
    "        \"99th Percentile Latency (microseconds)\": 644008,\n",
    "        \"75th Percentile Latency (microseconds)\": 627854,\n",
    "        \"Average Latency (microseconds)\": 623411\n",
    "    },\n",
    "    \"Throughput (requests/second)\": 1.601329605324134\n",
    "}\n",
    "```"
   ]
  },
  {
   "cell_type": "code",
   "execution_count": null,
   "id": "99bd9584",
   "metadata": {},
   "outputs": [],
   "source": [
    "log_file_path = \"./data/jungle_scale_1000_rate_unlimited_time_600_simple.csv\"\n",
    "with open(log_file_path) as csvfile:\n",
    "    reader = csv.reader(csvfile, delimiter=',')\n",
    "    log_file_data = list(map(lambda x : x[13], reader))\n",
    "jungle_parsing_success, jungle_column_usage, jungle_where_predicates = parse_simple_logs(log_file_data)"
   ]
  },
  {
   "cell_type": "code",
   "execution_count": null,
   "id": "1fab88cc",
   "metadata": {},
   "outputs": [],
   "source": [
    "pprint.pprint(jungle_parsing_success)"
   ]
  },
  {
   "cell_type": "code",
   "execution_count": null,
   "id": "74389d4e",
   "metadata": {},
   "outputs": [],
   "source": [
    "pprint.pprint(jungle_column_usage)"
   ]
  },
  {
   "cell_type": "code",
   "execution_count": null,
   "id": "d2907940",
   "metadata": {},
   "outputs": [],
   "source": [
    "pprint.pprint(jungle_where_predicates)"
   ]
  },
  {
   "cell_type": "code",
   "execution_count": null,
   "id": "57adc4fe",
   "metadata": {},
   "outputs": [],
   "source": [
    "generate_create_index_commands(prune_indexes(generate_all_indexes(jungle_column_usage, jungle_where_predicates)))"
   ]
  },
  {
   "cell_type": "markdown",
   "id": "5ea9af8e",
   "metadata": {},
   "source": [
    "### Added index: \n",
    "\n",
    "`CREATE INDEX idx_jungle_int_field3 ON jungle (int_field3);`\n",
    "```\n",
    "{\n",
    " \"scalefactor\": \"1000\",\n",
    " \"Current Timestamp (milliseconds)\": 1645469508485,\n",
    " \"Benchmark Type\": \"indexjungle\",\n",
    " \"isolation\": null,\n",
    " \"DBMS Version\": \"PostgreSQL 14.2 (Ubuntu 14.2-1.pgdg20.04+1) on x86_64-pc-linux-gnu, compiled by gcc (Ubuntu 9.3.0-17ubuntu1~20.04) 9.3.0, 64-bit\",\n",
    " \"Goodput (requests/second)\": 1383.0397270709402,\n",
    " \"terminals\": \"1\",\n",
    " \"DBMS Type\": \"POSTGRES\",\n",
    " \"Latency Distribution\": {\n",
    "  \"95th Percentile Latency (microseconds)\": 1251,\n",
    "  \"Maximum Latency (microseconds)\": 7005,\n",
    "  \"Median Latency (microseconds)\": 711,\n",
    "  \"Minimum Latency (microseconds)\": 150,\n",
    "  \"25th Percentile Latency (microseconds)\": 435,\n",
    "  \"90th Percentile Latency (microseconds)\": 1173,\n",
    "  \"99th Percentile Latency (microseconds)\": 1408,\n",
    "  \"75th Percentile Latency (microseconds)\": 997,\n",
    "  \"Average Latency (microseconds)\": 722\n",
    " },\n",
    " \"Throughput (requests/second)\": 1382.1797272406525\n",
    "}\n",
    "```"
   ]
  },
  {
   "cell_type": "code",
   "execution_count": null,
   "id": "eac6a572",
   "metadata": {},
   "outputs": [],
   "source": []
  },
  {
   "cell_type": "code",
   "execution_count": null,
   "id": "ad0d41ef",
   "metadata": {},
   "outputs": [],
   "source": []
  },
  {
   "cell_type": "code",
   "execution_count": null,
   "id": "722e5b5f",
   "metadata": {},
   "outputs": [],
   "source": []
  },
  {
   "cell_type": "markdown",
   "id": "5768580a",
   "metadata": {},
   "source": [
    "# (iii) Timeseries"
   ]
  },
  {
   "cell_type": "markdown",
   "id": "1fde7ca4",
   "metadata": {},
   "source": [
    "### Scale factor = 10\n",
    "```\n",
    " Schema |     Name     | Type  |    Owner     | Persistence | Access method |  Size   | Description \n",
    "--------+--------------+-------+--------------+-------------+---------------+---------+-------------\n",
    " public | observations | table | project1user | permanent   | heap          | 5746 MB | \n",
    " public | sessions     | table | project1user | permanent   | heap          | 784 kB  | \n",
    " public | sources      | table | project1user | permanent   | heap          | 208 kB  | \n",
    " public | types        | table | project1user | permanent   | heap          | 1464 kB | \n",
    "```"
   ]
  },
  {
   "cell_type": "markdown",
   "id": "8c462e09",
   "metadata": {},
   "source": [
    "### Without index\n",
    "```\n",
    "{\n",
    " \"scalefactor\": \"10\",\n",
    " \"Current Timestamp (milliseconds)\": 1645546729938,\n",
    " \"Benchmark Type\": \"timeseries\",\n",
    " \"isolation\": null,\n",
    " \"DBMS Version\": \"PostgreSQL 14.2 (Ubuntu 14.2-1.pgdg20.04+1) on x86_64-pc-linux-gnu, compiled by gcc (Ubuntu 9.3.0-17ubuntu1~20.04) 9.3.0, 64-bit\",\n",
    " \"Goodput (requests/second)\": 0.591362724923002,\n",
    " \"terminals\": \"1\",\n",
    " \"DBMS Type\": \"POSTGRES\",\n",
    " \"Latency Distribution\": {\n",
    "  \"95th Percentile Latency (microseconds)\": 1884720,\n",
    "  \"Maximum Latency (microseconds)\": 1931072,\n",
    "  \"Median Latency (microseconds)\": 1687350,\n",
    "  \"Minimum Latency (microseconds)\": 1553243,\n",
    "  \"25th Percentile Latency (microseconds)\": 1659923,\n",
    "  \"90th Percentile Latency (microseconds)\": 1845196,\n",
    "  \"99th Percentile Latency (microseconds)\": 1921746,\n",
    "  \"75th Percentile Latency (microseconds)\": 1726973,\n",
    "  \"Average Latency (microseconds)\": 1705219\n",
    " },\n",
    " \"Throughput (requests/second)\": 0.5847181999238672\n",
    "}\n",
    "```"
   ]
  },
  {
   "cell_type": "code",
   "execution_count": null,
   "id": "f11504f6",
   "metadata": {},
   "outputs": [],
   "source": [
    "log_file_path = \"./data/timeseries_scale_10_rate_unlimited_time_300_simple.csv\"\n",
    "with open(log_file_path) as csvfile:\n",
    "    reader = csv.reader(csvfile, delimiter=',')\n",
    "    log_file_data = list(map(lambda x : x[13], reader))\n",
    "timeseries_parsing_success, timeseries_column_usage, timeseries_where_predicates = parse_simple_logs(log_file_data)"
   ]
  },
  {
   "cell_type": "code",
   "execution_count": null,
   "id": "8c19df13",
   "metadata": {},
   "outputs": [],
   "source": [
    "pprint.pprint(timeseries_parsing_success)"
   ]
  },
  {
   "cell_type": "code",
   "execution_count": null,
   "id": "84bae343",
   "metadata": {},
   "outputs": [],
   "source": [
    "pprint.pprint(timeseries_column_usage)"
   ]
  },
  {
   "cell_type": "code",
   "execution_count": null,
   "id": "e82bf62e",
   "metadata": {},
   "outputs": [],
   "source": [
    "pprint.pprint(timeseries_where_predicates)"
   ]
  },
  {
   "cell_type": "markdown",
   "id": "43154d02",
   "metadata": {},
   "source": [
    "### Adding single indices:\n",
    "\n",
    "`CREATE INDEX idx_observations_created_time ON observations (created_time);`\n",
    "\n",
    "`CREATE INDEX idx_observations_session_id ON observations (session_id);`\n",
    "\n",
    "`CREATE INDEX idx_observations_source_id ON observations (source_id);`\n",
    "\n",
    "`CREATE INDEX idx_observations_type_id ON observations (type_id);`\n",
    "\n",
    "```\n",
    "{\n",
    " \"scalefactor\": \"10\",\n",
    " \"Current Timestamp (milliseconds)\": 1645555654179,\n",
    " \"Benchmark Type\": \"timeseries\",\n",
    " \"isolation\": null,\n",
    " \"DBMS Version\": \"PostgreSQL 14.2 (Ubuntu 14.2-1.pgdg20.04+1) on x86_64-pc-linux-gnu, compiled by gcc (Ubuntu 9.3.0-17ubuntu1~20.04) 9.3.0, 64-bit\",\n",
    " \"Goodput (requests/second)\": 25.843852375660493,\n",
    " \"terminals\": \"1\",\n",
    " \"DBMS Type\": \"POSTGRES\",\n",
    " \"Latency Distribution\": {\n",
    "  \"95th Percentile Latency (microseconds)\": 66818,\n",
    "  \"Maximum Latency (microseconds)\": 86139,\n",
    "  \"Median Latency (microseconds)\": 41596,\n",
    "  \"Minimum Latency (microseconds)\": 4061,\n",
    "  \"25th Percentile Latency (microseconds)\": 29577,\n",
    "  \"90th Percentile Latency (microseconds)\": 63509,\n",
    "  \"99th Percentile Latency (microseconds)\": 74320,\n",
    "  \"75th Percentile Latency (microseconds)\": 53250,\n",
    "  \"Average Latency (microseconds)\": 38786\n",
    " },\n",
    " \"Throughput (requests/second)\": 25.764118160849353\n",
    "}\n",
    "```"
   ]
  },
  {
   "cell_type": "code",
   "execution_count": null,
   "id": "6ec3a910",
   "metadata": {
    "scrolled": true
   },
   "outputs": [],
   "source": [
    "generate_create_index_commands(prune_indexes(generate_all_indexes(timeseries_column_usage, timeseries_where_predicates)))\n"
   ]
  },
  {
   "cell_type": "markdown",
   "id": "19c4d25f",
   "metadata": {},
   "source": [
    "### Adding multiindex:\n",
    "\n",
    "`CREATE INDEX idx_observations_comb ON observations (source_id, session_id, type_id);`\n",
    "\n",
    "```\n",
    "{\n",
    " \"scalefactor\": \"10\",\n",
    " \"Current Timestamp (milliseconds)\": 1645556187951,\n",
    " \"Benchmark Type\": \"timeseries\",\n",
    " \"isolation\": null,\n",
    " \"DBMS Version\": \"PostgreSQL 14.2 (Ubuntu 14.2-1.pgdg20.04+1) on x86_64-pc-linux-gnu, compiled by gcc (Ubuntu 9.3.0-17ubuntu1~20.04) 9.3.0, 64-bit\",\n",
    " \"Goodput (requests/second)\": 1514.628448292875,\n",
    " \"terminals\": \"1\",\n",
    " \"DBMS Type\": \"POSTGRES\",\n",
    " \"Latency Distribution\": {\n",
    "  \"95th Percentile Latency (microseconds)\": 1157,\n",
    "  \"Maximum Latency (microseconds)\": 5221,\n",
    "  \"Median Latency (microseconds)\": 607,\n",
    "  \"Minimum Latency (microseconds)\": 230,\n",
    "  \"25th Percentile Latency (microseconds)\": 459,\n",
    "  \"90th Percentile Latency (microseconds)\": 1038,\n",
    "  \"99th Percentile Latency (microseconds)\": 1346,\n",
    "  \"75th Percentile Latency (microseconds)\": 812,\n",
    "  \"Average Latency (microseconds)\": 660\n",
    " },\n",
    " \"Throughput (requests/second)\": 1512.1035304469679\n",
    "}\n",
    "```\n",
    "\n",
    "### Adding index on sorted field:\n",
    "\n",
    "\\+ `CREATE INDEX idx_observations_created_time ON observations (created_time);`\n",
    "\n",
    "```\n",
    "{\n",
    " \"scalefactor\": \"10\",\n",
    " \"Current Timestamp (milliseconds)\": 1645556588675,\n",
    " \"Benchmark Type\": \"timeseries\",\n",
    " \"isolation\": null,\n",
    " \"DBMS Version\": \"PostgreSQL 14.2 (Ubuntu 14.2-1.pgdg20.04+1) on x86_64-pc-linux-gnu, compiled by gcc (Ubuntu 9.3.0-17ubuntu1~20.04) 9.3.0, 64-bit\",\n",
    " \"Goodput (requests/second)\": 1482.5532255022954,\n",
    " \"terminals\": \"1\",\n",
    " \"DBMS Type\": \"POSTGRES\",\n",
    " \"Latency Distribution\": {\n",
    "  \"95th Percentile Latency (microseconds)\": 1176,\n",
    "  \"Maximum Latency (microseconds)\": 4890,\n",
    "  \"Median Latency (microseconds)\": 620,\n",
    "  \"Minimum Latency (microseconds)\": 236,\n",
    "  \"25th Percentile Latency (microseconds)\": 473,\n",
    "  \"90th Percentile Latency (microseconds)\": 1056,\n",
    "  \"99th Percentile Latency (microseconds)\": 1371,\n",
    "  \"75th Percentile Latency (microseconds)\": 826,\n",
    "  \"Average Latency (microseconds)\": 674\n",
    " },\n",
    " \"Throughput (requests/second)\": 1480.0398923517653\n",
    "}\n",
    "```"
   ]
  },
  {
   "cell_type": "code",
   "execution_count": null,
   "id": "ec62ef0f",
   "metadata": {},
   "outputs": [],
   "source": []
  },
  {
   "cell_type": "code",
   "execution_count": null,
   "id": "ebdbd56a",
   "metadata": {},
   "outputs": [],
   "source": []
  },
  {
   "cell_type": "code",
   "execution_count": null,
   "id": "51f15324",
   "metadata": {},
   "outputs": [],
   "source": []
  },
  {
   "cell_type": "code",
   "execution_count": null,
   "id": "dd57f57f",
   "metadata": {},
   "outputs": [],
   "source": []
  },
  {
   "cell_type": "code",
   "execution_count": 2,
   "id": "43350298",
   "metadata": {
    "scrolled": true
   },
   "outputs": [
    {
     "name": "stdout",
     "output_type": "stream",
     "text": [
      "Total log lines:  119488\n",
      "Processed log_count:  10000\n",
      "{'failure': 1,\n",
      " 'failure_reason': defaultdict(<function parse_simple_logs.<locals>.<lambda> at 0x1181ae790>, {}),\n",
      " 'skipped': 6676,\n",
      " 'skipped_log_type': defaultdict(<function parse_simple_logs.<locals>.<lambda> at 0x1181ae820>, {}),\n",
      " 'success': 3322,\n",
      " 'success_log_type': defaultdict(<function parse_simple_logs.<locals>.<lambda> at 0x10399e160>, {})}\n",
      "\n",
      "\n",
      "\n",
      "Processed log_count:  20000\n",
      "{'failure': 1,\n",
      " 'failure_reason': defaultdict(<function parse_simple_logs.<locals>.<lambda> at 0x1181ae790>, {}),\n",
      " 'skipped': 13342,\n",
      " 'skipped_log_type': defaultdict(<function parse_simple_logs.<locals>.<lambda> at 0x1181ae820>, {}),\n",
      " 'success': 6655,\n",
      " 'success_log_type': defaultdict(<function parse_simple_logs.<locals>.<lambda> at 0x10399e160>, {})}\n",
      "\n",
      "\n",
      "\n",
      "Processed log_count:  30000\n",
      "{'failure': 1,\n",
      " 'failure_reason': defaultdict(<function parse_simple_logs.<locals>.<lambda> at 0x1181ae790>, {}),\n",
      " 'skipped': 20008,\n",
      " 'skipped_log_type': defaultdict(<function parse_simple_logs.<locals>.<lambda> at 0x1181ae820>, {}),\n",
      " 'success': 9988,\n",
      " 'success_log_type': defaultdict(<function parse_simple_logs.<locals>.<lambda> at 0x10399e160>, {})}\n",
      "\n",
      "\n",
      "\n",
      "Processed log_count:  40000\n",
      "{'failure': 1,\n",
      " 'failure_reason': defaultdict(<function parse_simple_logs.<locals>.<lambda> at 0x1181ae790>, {}),\n",
      " 'skipped': 26674,\n",
      " 'skipped_log_type': defaultdict(<function parse_simple_logs.<locals>.<lambda> at 0x1181ae820>, {}),\n",
      " 'success': 13321,\n",
      " 'success_log_type': defaultdict(<function parse_simple_logs.<locals>.<lambda> at 0x10399e160>, {})}\n",
      "\n",
      "\n",
      "\n",
      "Processed log_count:  50000\n",
      "{'failure': 1,\n",
      " 'failure_reason': defaultdict(<function parse_simple_logs.<locals>.<lambda> at 0x1181ae790>, {}),\n",
      " 'skipped': 33340,\n",
      " 'skipped_log_type': defaultdict(<function parse_simple_logs.<locals>.<lambda> at 0x1181ae820>, {}),\n",
      " 'success': 16654,\n",
      " 'success_log_type': defaultdict(<function parse_simple_logs.<locals>.<lambda> at 0x10399e160>, {})}\n",
      "\n",
      "\n",
      "\n",
      "Processed log_count:  60000\n",
      "{'failure': 1,\n",
      " 'failure_reason': defaultdict(<function parse_simple_logs.<locals>.<lambda> at 0x1181ae790>, {}),\n",
      " 'skipped': 40006,\n",
      " 'skipped_log_type': defaultdict(<function parse_simple_logs.<locals>.<lambda> at 0x1181ae820>, {}),\n",
      " 'success': 19987,\n",
      " 'success_log_type': defaultdict(<function parse_simple_logs.<locals>.<lambda> at 0x10399e160>, {})}\n",
      "\n",
      "\n",
      "\n",
      "Processed log_count:  70000\n",
      "{'failure': 1,\n",
      " 'failure_reason': defaultdict(<function parse_simple_logs.<locals>.<lambda> at 0x1181ae790>, {}),\n",
      " 'skipped': 46672,\n",
      " 'skipped_log_type': defaultdict(<function parse_simple_logs.<locals>.<lambda> at 0x1181ae820>, {}),\n",
      " 'success': 23320,\n",
      " 'success_log_type': defaultdict(<function parse_simple_logs.<locals>.<lambda> at 0x10399e160>, {})}\n",
      "\n",
      "\n",
      "\n",
      "Processed log_count:  80000\n",
      "{'failure': 1,\n",
      " 'failure_reason': defaultdict(<function parse_simple_logs.<locals>.<lambda> at 0x1181ae790>, {}),\n",
      " 'skipped': 53338,\n",
      " 'skipped_log_type': defaultdict(<function parse_simple_logs.<locals>.<lambda> at 0x1181ae820>, {}),\n",
      " 'success': 26653,\n",
      " 'success_log_type': defaultdict(<function parse_simple_logs.<locals>.<lambda> at 0x10399e160>, {})}\n",
      "\n",
      "\n",
      "\n",
      "Processed log_count:  90000\n",
      "{'failure': 1,\n",
      " 'failure_reason': defaultdict(<function parse_simple_logs.<locals>.<lambda> at 0x1181ae790>, {}),\n",
      " 'skipped': 60004,\n",
      " 'skipped_log_type': defaultdict(<function parse_simple_logs.<locals>.<lambda> at 0x1181ae820>, {}),\n",
      " 'success': 29986,\n",
      " 'success_log_type': defaultdict(<function parse_simple_logs.<locals>.<lambda> at 0x10399e160>, {})}\n",
      "\n",
      "\n",
      "\n",
      "Processed log_count:  100000\n",
      "{'failure': 1,\n",
      " 'failure_reason': defaultdict(<function parse_simple_logs.<locals>.<lambda> at 0x1181ae790>, {}),\n",
      " 'skipped': 66670,\n",
      " 'skipped_log_type': defaultdict(<function parse_simple_logs.<locals>.<lambda> at 0x1181ae820>, {}),\n",
      " 'success': 33319,\n",
      " 'success_log_type': defaultdict(<function parse_simple_logs.<locals>.<lambda> at 0x10399e160>, {})}\n",
      "\n",
      "\n",
      "\n",
      "Processed log_count:  110000\n",
      "{'failure': 1,\n",
      " 'failure_reason': defaultdict(<function parse_simple_logs.<locals>.<lambda> at 0x1181ae790>, {}),\n",
      " 'skipped': 73336,\n",
      " 'skipped_log_type': defaultdict(<function parse_simple_logs.<locals>.<lambda> at 0x1181ae820>, {}),\n",
      " 'success': 36652,\n",
      " 'success_log_type': defaultdict(<function parse_simple_logs.<locals>.<lambda> at 0x10399e160>, {})}\n",
      "\n",
      "\n",
      "\n"
     ]
    },
    {
     "name": "stderr",
     "output_type": "stream",
     "text": [
      "Not supported query type: ALTER SYSTEM SET log_destination='stderr'\n",
      "Not supported query type: ALTER SYSTEM SET logging_collector='off'\n",
      "Not supported query type: ALTER SYSTEM SET log_statement='none'\n",
      "Not supported query type: ALTER SYSTEM SET log_connections='off'\n",
      "Not supported query type: ALTER SYSTEM SET log_disconnections='off'\n"
     ]
    }
   ],
   "source": [
    "log_file_path = \"./data/jungle_live.csv\"\n",
    "with open(log_file_path) as csvfile:\n",
    "    reader = csv.reader(csvfile, delimiter=',')\n",
    "    log_file_data = list(map(lambda x : x[13], reader))\n",
    "jungle_parsing_success, jungle_where_predicates = parse_simple_logs(log_file_data)"
   ]
  },
  {
   "cell_type": "code",
   "execution_count": 3,
   "id": "d367e4d1",
   "metadata": {},
   "outputs": [
    {
     "data": {
      "text/plain": [
       "defaultdict(<function column_usage.parse_simple_logs.<locals>.<lambda>()>,\n",
       "            {(('jungle.int_field1', None), ('jungle.int_field1', None)): 10378,\n",
       "             (('jungle.int_field4', None), ('jungle.int_field4', None)): 10396,\n",
       "             (('jungle.int_field9', None), ('jungle.int_field9', None)): 10464,\n",
       "             (('jungle.int_field4', None),\n",
       "              ('jungle.int_field4', None),\n",
       "              ('jungle.float_field9', None)): 274,\n",
       "             (('jungle.int_field9', None),\n",
       "              ('jungle.int_field9', None),\n",
       "              ('jungle.float_field1', None)): 247,\n",
       "             (('jungle.int_field9', None),\n",
       "              ('jungle.int_field9', None),\n",
       "              ('jungle.float_field9', None)): 263,\n",
       "             (('jungle.int_field4', None),\n",
       "              ('jungle.int_field4', None),\n",
       "              ('jungle.float_field1', None)): 267,\n",
       "             (('jungle.int_field9', None),\n",
       "              ('jungle.int_field9', None),\n",
       "              ('jungle.float_field2', None)): 237,\n",
       "             (('jungle.int_field9', None),\n",
       "              ('jungle.int_field9', None),\n",
       "              ('jungle.float_field8', None)): 256,\n",
       "             (('jungle.int_field1', None),\n",
       "              ('jungle.int_field1', None),\n",
       "              ('jungle.float_field0', None)): 243,\n",
       "             (('jungle.int_field4', None),\n",
       "              ('jungle.int_field4', None),\n",
       "              ('jungle.float_field2', None)): 249,\n",
       "             (('jungle.int_field4', None),\n",
       "              ('jungle.int_field4', None),\n",
       "              ('jungle.float_field0', None)): 242,\n",
       "             (('jungle.int_field4', None),\n",
       "              ('jungle.int_field4', None),\n",
       "              ('jungle.float_field8', None)): 253,\n",
       "             (('jungle.int_field1', None),\n",
       "              ('jungle.int_field1', None),\n",
       "              ('jungle.float_field5', None)): 254,\n",
       "             (('jungle.int_field1', None),\n",
       "              ('jungle.int_field1', None),\n",
       "              ('jungle.float_field7', None)): 277,\n",
       "             (('jungle.int_field9', None),\n",
       "              ('jungle.int_field9', None),\n",
       "              ('jungle.float_field7', None)): 273,\n",
       "             (('jungle.int_field9', None),\n",
       "              ('jungle.int_field9', None),\n",
       "              ('jungle.float_field0', None)): 259,\n",
       "             (('jungle.int_field9', None),\n",
       "              ('jungle.int_field9', None),\n",
       "              ('jungle.float_field3', None)): 254,\n",
       "             (('jungle.int_field1', None),\n",
       "              ('jungle.int_field1', None),\n",
       "              ('jungle.float_field3', None)): 275,\n",
       "             (('jungle.int_field1', None),\n",
       "              ('jungle.int_field1', None),\n",
       "              ('jungle.float_field8', None)): 269,\n",
       "             (('jungle.int_field4', None),\n",
       "              ('jungle.int_field4', None),\n",
       "              ('jungle.float_field4', None)): 261,\n",
       "             (('jungle.int_field4', None),\n",
       "              ('jungle.int_field4', None),\n",
       "              ('jungle.float_field5', None)): 256,\n",
       "             (('jungle.int_field1', None),\n",
       "              ('jungle.int_field1', None),\n",
       "              ('jungle.float_field2', None)): 246,\n",
       "             (('jungle.int_field1', None),\n",
       "              ('jungle.int_field1', None),\n",
       "              ('jungle.float_field1', None)): 285,\n",
       "             (('jungle.int_field1', None),\n",
       "              ('jungle.int_field1', None),\n",
       "              ('jungle.float_field9', None)): 287,\n",
       "             (('jungle.int_field9', None),\n",
       "              ('jungle.int_field9', None),\n",
       "              ('jungle.float_field5', None)): 218,\n",
       "             (('jungle.int_field4', None),\n",
       "              ('jungle.int_field4', None),\n",
       "              ('jungle.float_field3', None)): 232,\n",
       "             (('jungle.int_field1', None),\n",
       "              ('jungle.int_field1', None),\n",
       "              ('jungle.float_field4', None)): 293,\n",
       "             (('jungle.int_field9', None),\n",
       "              ('jungle.int_field9', None),\n",
       "              ('jungle.float_field4', None)): 258,\n",
       "             (('jungle.uuid_field', None),): 773,\n",
       "             (('jungle.int_field9', None),\n",
       "              ('jungle.int_field9', None),\n",
       "              ('jungle.float_field6', None)): 263,\n",
       "             (('jungle.int_field1', None),\n",
       "              ('jungle.int_field1', None),\n",
       "              ('jungle.float_field6', None)): 257,\n",
       "             (('jungle.int_field4', None),\n",
       "              ('jungle.int_field4', None),\n",
       "              ('jungle.float_field7', None)): 276,\n",
       "             (('jungle.int_field4', None),\n",
       "              ('jungle.int_field4', None),\n",
       "              ('jungle.float_field6', None)): 258})"
      ]
     },
     "execution_count": 3,
     "metadata": {},
     "output_type": "execute_result"
    }
   ],
   "source": [
    "jungle_where_predicates"
   ]
  },
  {
   "cell_type": "code",
   "execution_count": 5,
   "id": "e2546667",
   "metadata": {},
   "outputs": [
    {
     "data": {
      "text/plain": [
       "34"
      ]
     },
     "execution_count": 5,
     "metadata": {},
     "output_type": "execute_result"
    }
   ],
   "source": [
    "len(jungle_where_predicates)"
   ]
  },
  {
   "cell_type": "code",
   "execution_count": 13,
   "id": "ac54eb44",
   "metadata": {},
   "outputs": [
    {
     "name": "stdout",
     "output_type": "stream",
     "text": [
      "defaultdict(<function parse_simple_logs.<locals>.<lambda> at 0x1181ae8b0>,\n",
      "            {(('jungle.int_field1', None), ('jungle.int_field1', None)): 10378,\n",
      "             (('jungle.int_field1', None), ('jungle.int_field1', None), ('jungle.float_field0', None)): 243,\n",
      "             (('jungle.int_field1', None), ('jungle.int_field1', None), ('jungle.float_field1', None)): 285,\n",
      "             (('jungle.int_field1', None), ('jungle.int_field1', None), ('jungle.float_field2', None)): 246,\n",
      "             (('jungle.int_field1', None), ('jungle.int_field1', None), ('jungle.float_field3', None)): 275,\n",
      "             (('jungle.int_field1', None), ('jungle.int_field1', None), ('jungle.float_field4', None)): 293,\n",
      "             (('jungle.int_field1', None), ('jungle.int_field1', None), ('jungle.float_field5', None)): 254,\n",
      "             (('jungle.int_field1', None), ('jungle.int_field1', None), ('jungle.float_field6', None)): 257,\n",
      "             (('jungle.int_field1', None), ('jungle.int_field1', None), ('jungle.float_field7', None)): 277,\n",
      "             (('jungle.int_field1', None), ('jungle.int_field1', None), ('jungle.float_field8', None)): 269,\n",
      "             (('jungle.int_field1', None), ('jungle.int_field1', None), ('jungle.float_field9', None)): 287,\n",
      "             (('jungle.int_field4', None), ('jungle.int_field4', None)): 10396,\n",
      "             (('jungle.int_field4', None), ('jungle.int_field4', None), ('jungle.float_field0', None)): 242,\n",
      "             (('jungle.int_field4', None), ('jungle.int_field4', None), ('jungle.float_field1', None)): 267,\n",
      "             (('jungle.int_field4', None), ('jungle.int_field4', None), ('jungle.float_field2', None)): 249,\n",
      "             (('jungle.int_field4', None), ('jungle.int_field4', None), ('jungle.float_field3', None)): 232,\n",
      "             (('jungle.int_field4', None), ('jungle.int_field4', None), ('jungle.float_field4', None)): 261,\n",
      "             (('jungle.int_field4', None), ('jungle.int_field4', None), ('jungle.float_field5', None)): 256,\n",
      "             (('jungle.int_field4', None), ('jungle.int_field4', None), ('jungle.float_field6', None)): 258,\n",
      "             (('jungle.int_field4', None), ('jungle.int_field4', None), ('jungle.float_field7', None)): 276,\n",
      "             (('jungle.int_field4', None), ('jungle.int_field4', None), ('jungle.float_field8', None)): 253,\n",
      "             (('jungle.int_field4', None), ('jungle.int_field4', None), ('jungle.float_field9', None)): 274,\n",
      "             (('jungle.int_field9', None), ('jungle.int_field9', None)): 10464,\n",
      "             (('jungle.int_field9', None), ('jungle.int_field9', None), ('jungle.float_field0', None)): 259,\n",
      "             (('jungle.int_field9', None), ('jungle.int_field9', None), ('jungle.float_field1', None)): 247,\n",
      "             (('jungle.int_field9', None), ('jungle.int_field9', None), ('jungle.float_field2', None)): 237,\n",
      "             (('jungle.int_field9', None), ('jungle.int_field9', None), ('jungle.float_field3', None)): 254,\n",
      "             (('jungle.int_field9', None), ('jungle.int_field9', None), ('jungle.float_field4', None)): 258,\n",
      "             (('jungle.int_field9', None), ('jungle.int_field9', None), ('jungle.float_field5', None)): 218,\n",
      "             (('jungle.int_field9', None), ('jungle.int_field9', None), ('jungle.float_field6', None)): 263,\n",
      "             (('jungle.int_field9', None), ('jungle.int_field9', None), ('jungle.float_field7', None)): 273,\n",
      "             (('jungle.int_field9', None), ('jungle.int_field9', None), ('jungle.float_field8', None)): 256,\n",
      "             (('jungle.int_field9', None), ('jungle.int_field9', None), ('jungle.float_field9', None)): 263,\n",
      "             (('jungle.uuid_field', None),): 773})\n"
     ]
    }
   ],
   "source": [
    "pprint.pprint(jungle_where_predicates)"
   ]
  },
  {
   "cell_type": "code",
   "execution_count": 14,
   "id": "f5caaab6",
   "metadata": {},
   "outputs": [
    {
     "name": "stdout",
     "output_type": "stream",
     "text": [
      "{('float_field0', 'int_field1'),\n",
      " ('float_field0', 'int_field4'),\n",
      " ('float_field0', 'int_field9'),\n",
      " ('float_field1', 'int_field1'),\n",
      " ('float_field1', 'int_field4'),\n",
      " ('float_field1', 'int_field9'),\n",
      " ('float_field2', 'int_field1'),\n",
      " ('float_field2', 'int_field4'),\n",
      " ('float_field2', 'int_field9'),\n",
      " ('float_field3', 'int_field1'),\n",
      " ('float_field3', 'int_field4'),\n",
      " ('float_field3', 'int_field9'),\n",
      " ('float_field4', 'int_field1'),\n",
      " ('float_field4', 'int_field4'),\n",
      " ('float_field4', 'int_field9'),\n",
      " ('float_field5', 'int_field1'),\n",
      " ('float_field5', 'int_field4'),\n",
      " ('float_field5', 'int_field9'),\n",
      " ('float_field6', 'int_field1'),\n",
      " ('float_field6', 'int_field4'),\n",
      " ('float_field6', 'int_field9'),\n",
      " ('float_field7', 'int_field1'),\n",
      " ('float_field7', 'int_field4'),\n",
      " ('float_field7', 'int_field9'),\n",
      " ('float_field8', 'int_field1'),\n",
      " ('float_field8', 'int_field4'),\n",
      " ('float_field8', 'int_field9'),\n",
      " ('float_field9', 'int_field1'),\n",
      " ('float_field9', 'int_field4'),\n",
      " ('float_field9', 'int_field9'),\n",
      " ('int_field1',),\n",
      " ('int_field4',),\n",
      " ('int_field9',),\n",
      " ('uuid_field',)}\n"
     ]
    }
   ],
   "source": [
    "pprint.pprint(generate_all_indexes(jungle_where_predicates)['jungle'])"
   ]
  },
  {
   "cell_type": "code",
   "execution_count": 9,
   "id": "a28d6aad",
   "metadata": {},
   "outputs": [
    {
     "data": {
      "text/plain": [
       "34"
      ]
     },
     "execution_count": 9,
     "metadata": {},
     "output_type": "execute_result"
    }
   ],
   "source": [
    "len(generate_all_indexes(jungle_where_predicates)['jungle'])"
   ]
  },
  {
   "cell_type": "code",
   "execution_count": 11,
   "id": "c86b0197",
   "metadata": {},
   "outputs": [
    {
     "data": {
      "text/plain": [
       "34"
      ]
     },
     "execution_count": 11,
     "metadata": {},
     "output_type": "execute_result"
    }
   ],
   "source": [
    "len(prune_indexes(generate_all_indexes(jungle_where_predicates))['jungle'])"
   ]
  },
  {
   "cell_type": "code",
   "execution_count": null,
   "id": "e9519e07",
   "metadata": {},
   "outputs": [],
   "source": [
    "generate_create_index_commands(prune_indexes(generate_all_indexes(jungle_where_predicates)))"
   ]
  },
  {
   "cell_type": "markdown",
   "id": "62835575",
   "metadata": {},
   "source": [
    "# TODOs:\n",
    "\n",
    "- Some columns do not have table prefixed (rating vs review.rating)\n",
    "- Fix column usage; is it even required?"
   ]
  },
  {
   "cell_type": "code",
   "execution_count": null,
   "id": "36bd2afd",
   "metadata": {},
   "outputs": [],
   "source": []
  },
  {
   "cell_type": "code",
   "execution_count": null,
   "id": "25b861a8",
   "metadata": {},
   "outputs": [],
   "source": []
  }
 ],
 "metadata": {
  "kernelspec": {
   "display_name": "Python 3 (ipykernel)",
   "language": "python",
   "name": "python3"
  },
  "language_info": {
   "codemirror_mode": {
    "name": "ipython",
    "version": 3
   },
   "file_extension": ".py",
   "mimetype": "text/x-python",
   "name": "python",
   "nbconvert_exporter": "python",
   "pygments_lexer": "ipython3",
   "version": "3.9.10"
  }
 },
 "nbformat": 4,
 "nbformat_minor": 5
}
