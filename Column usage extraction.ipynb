{
 "cells": [
  {
   "cell_type": "code",
   "execution_count": 66,
   "id": "57ffc25f",
   "metadata": {},
   "outputs": [
    {
     "name": "stdout",
     "output_type": "stream",
     "text": [
      "\u001b[33mDEPRECATION: Configuring installation scheme with distutils config files is deprecated and will no longer work in the near future. If you are using a Homebrew or Linuxbrew Python, please see discussion at https://github.com/Homebrew/homebrew-core/issues/76621\u001b[0m\n",
      "Collecting sql-metadata\n",
      "  Downloading sql_metadata-2.3.0-py3-none-any.whl (21 kB)\n",
      "Requirement already satisfied: sqlparse<0.5.0,>=0.4.1 in /usr/local/lib/python3.9/site-packages (from sql-metadata) (0.4.2)\n",
      "Installing collected packages: sql-metadata\n",
      "\u001b[33mDEPRECATION: Configuring installation scheme with distutils config files is deprecated and will no longer work in the near future. If you are using a Homebrew or Linuxbrew Python, please see discussion at https://github.com/Homebrew/homebrew-core/issues/76621\u001b[0m\n",
      "Successfully installed sql-metadata-2.3.0\n",
      "\u001b[33mWARNING: You are using pip version 21.2.4; however, version 22.0.3 is available.\n",
      "You should consider upgrading via the '/usr/local/opt/python@3.9/bin/python3.9 -m pip install --upgrade pip' command.\u001b[0m\n"
     ]
    }
   ],
   "source": [
    "!pip3 install sql-metadata"
   ]
  },
  {
   "cell_type": "code",
   "execution_count": 41,
   "id": "7e685fbb",
   "metadata": {},
   "outputs": [
    {
     "name": "stdout",
     "output_type": "stream",
     "text": [
      "\u001b[33mDEPRECATION: Configuring installation scheme with distutils config files is deprecated and will no longer work in the near future. If you are using a Homebrew or Linuxbrew Python, please see discussion at https://github.com/Homebrew/homebrew-core/issues/76621\u001b[0m\n",
      "Collecting sqlparse\n",
      "  Downloading sqlparse-0.4.2-py3-none-any.whl (42 kB)\n",
      "\u001b[K     |████████████████████████████████| 42 kB 2.0 MB/s eta 0:00:01\n",
      "\u001b[?25hInstalling collected packages: sqlparse\n",
      "\u001b[33mDEPRECATION: Configuring installation scheme with distutils config files is deprecated and will no longer work in the near future. If you are using a Homebrew or Linuxbrew Python, please see discussion at https://github.com/Homebrew/homebrew-core/issues/76621\u001b[0m\n",
      "Successfully installed sqlparse-0.4.2\n",
      "\u001b[33mWARNING: You are using pip version 21.2.4; however, version 22.0.3 is available.\n",
      "You should consider upgrading via the '/usr/local/opt/python@3.9/bin/python3.9 -m pip install --upgrade pip' command.\u001b[0m\n"
     ]
    }
   ],
   "source": [
    "!pip3 install sqlparse"
   ]
  },
  {
   "cell_type": "code",
   "execution_count": 229,
   "id": "c36732f8",
   "metadata": {},
   "outputs": [],
   "source": [
    "import pandas as pd\n",
    "import sqlparse\n",
    "import re\n",
    "from collections import defaultdict\n",
    "from sql_metadata import Parser\n",
    "import pprint"
   ]
  },
  {
   "cell_type": "markdown",
   "id": "4a4f7975",
   "metadata": {},
   "source": [
    "# Parse logs using sql parser; get tables and columns being used "
   ]
  },
  {
   "cell_type": "code",
   "execution_count": 272,
   "id": "95f5f4ee",
   "metadata": {},
   "outputs": [],
   "source": [
    "def get_column_usage_from_logs(log_file_dataframe):\n",
    "\n",
    "    valid_log_types = { \"SELECT\": True, \"UPDATE\": True }\n",
    "    execute_unnamed_start_token = \"execute <unnamed>:\"\n",
    "    execute_unnamed_start_token_len = len(execute_unnamed_start_token)\n",
    "    transaction_regex = r\"(execute S_[0-9]+: )(.*)\"\n",
    "\n",
    "    # Maintain parsing counters\n",
    "    parsing_success = { \n",
    "        \"success\": 0,\n",
    "        \"success_log_type\": defaultdict(lambda : 0),\n",
    "        \"failure\": 0,\n",
    "        \"skipped\": 0,\n",
    "        \"skipped_log_type\": defaultdict(lambda : 0)\n",
    "    }\n",
    "\n",
    "    column_usage = defaultdict(lambda : defaultdict(lambda : 0))\n",
    "\n",
    "    print (\"Total log lines: \", len(log_file_dataframe))\n",
    "\n",
    "    # Parse each log line\n",
    "    log_count = 0\n",
    "    for log_type, log in log_file_dataframe[[7, 13]].values:\n",
    "        log_count += 1\n",
    "\n",
    "        if log_count % 10000 == 0:\n",
    "            print (\"Processed log_count: \", log_count)\n",
    "            pprint.pprint(parsing_success)\n",
    "            print (\"\\n\\n\")\n",
    "\n",
    "        # Ignore queries from log that are [ BEGIN, COMMIT ]\n",
    "        if log_type not in valid_log_types:\n",
    "            # Update counters\n",
    "            parsing_success[\"skipped\"] += 1\n",
    "            parsing_success[\"skipped_log_type\"][log_type] += 1\n",
    "            continue\n",
    "\n",
    "        if log.startswith(execute_unnamed_start_token):\n",
    "            # Log line starts with \"execute <unnamed>:\"\n",
    "            query = log[execute_unnamed_start_token_len:]\n",
    "        else:\n",
    "            # Log line starts with \"execute S_<>\"\n",
    "            query = re.sub(transaction_regex, r\"\\2\", log)\n",
    "\n",
    "        try:\n",
    "            # Update counters\n",
    "            parsing_success[\"success\"] += 1\n",
    "            parsing_success[\"success_log_type\"][log_type] += 1\n",
    "\n",
    "            parsed_query = Parser(query)\n",
    "            columns = parsed_query.columns_dict\n",
    "\n",
    "            # Ignore pg system queries (touches any table that starts with \"pq_\")\n",
    "            if any(map(lambda x : x.startswith(\"pg_\"), parsed_query.tables)):\n",
    "                continue\n",
    "\n",
    "            # If only one table, prefix is not there; append\n",
    "            table_prefix = \"\"\n",
    "            if len(parsed_query.tables) == 1:\n",
    "                table_prefix = parsed_query.tables[0] + \".\"\n",
    "\n",
    "            for operator_type in columns:\n",
    "                for column in columns[operator_type]:\n",
    "                    if \".\" in column:\n",
    "                        column_usage[operator_type][column] += 1\n",
    "                    else:\n",
    "#                         if table_prefix == \"\":\n",
    "#                             print (columns, parsed_query.tables)\n",
    "                        column_usage[operator_type][table_prefix + column] += 1\n",
    "        except Exception as e:\n",
    "            # Update counters \n",
    "            parsing_success[\"failure\"] += 1\n",
    "        \n",
    "\n",
    "    return parsing_success, column_usage"
   ]
  },
  {
   "cell_type": "markdown",
   "id": "f6745c67",
   "metadata": {},
   "source": [
    "# Load data from log csv"
   ]
  },
  {
   "cell_type": "code",
   "execution_count": 273,
   "id": "23489d2c",
   "metadata": {
    "scrolled": false
   },
   "outputs": [],
   "source": [
    "log_file_path = \"data/epinion_scale_10.csv\"\n",
    "# log_file_path = \"data/epinions_scale_100_rate_1000_time_60.csv\"\n",
    "log_file_dataframe = pd.read_csv(log_file_path, header=None)"
   ]
  },
  {
   "cell_type": "markdown",
   "id": "fe4cf2ad",
   "metadata": {},
   "source": [
    "# Process data; get column usage across operators"
   ]
  },
  {
   "cell_type": "code",
   "execution_count": 274,
   "id": "cd2afd3b",
   "metadata": {
    "scrolled": true
   },
   "outputs": [
    {
     "name": "stdout",
     "output_type": "stream",
     "text": [
      "Total log lines:  1920\n"
     ]
    }
   ],
   "source": [
    "parsing_success, column_usage = get_column_usage_from_logs(log_file_dataframe)"
   ]
  },
  {
   "cell_type": "code",
   "execution_count": 275,
   "id": "24dbb999",
   "metadata": {},
   "outputs": [
    {
     "name": "stdout",
     "output_type": "stream",
     "text": [
      "{'failure': 7,\n",
      " 'skipped': 1237,\n",
      " 'skipped_log_type': defaultdict(<function get_column_usage_from_logs.<locals>.<lambda> at 0x123191d30>,\n",
      "                                 {nan: 11,\n",
      "                                  'BEGIN': 605,\n",
      "                                  'COMMIT': 605,\n",
      "                                  'SET': 9,\n",
      "                                  'SHOW': 1,\n",
      "                                  'idle': 6}),\n",
      " 'success': 683,\n",
      " 'success_log_type': defaultdict(<function get_column_usage_from_logs.<locals>.<lambda> at 0x123191820>,\n",
      "                                 {'SELECT': 383,\n",
      "                                  'UPDATE': 300})}\n"
     ]
    }
   ],
   "source": [
    "pprint.pprint(parsing_success)"
   ]
  },
  {
   "cell_type": "code",
   "execution_count": 276,
   "id": "e4c36fde",
   "metadata": {},
   "outputs": [
    {
     "name": "stdout",
     "output_type": "stream",
     "text": [
      "operator select\n",
      "[('*', 127), ('review.rating', 62), ('rating', 59), ('review.*', 53), ('trust.*', 53), ('useracct.u_id', 1), ('item.i_id', 1)]\n",
      "\n",
      "\n",
      "operator update\n",
      "[('trust.trust', 140), ('review.rating', 56), ('item.title', 54), ('useracct.name', 50)]\n",
      "\n",
      "\n",
      "operator where\n",
      "[('review.i_id', 300), ('trust.source_u_id', 252), ('trust.target_u_id', 199), ('review.u_id', 172), ('item.i_id', 124), ('useracct.u_id', 107)]\n",
      "\n",
      "\n",
      "operator order_by\n",
      "[('review.creation_date', 180), ('rating', 127)]\n",
      "\n",
      "\n"
     ]
    }
   ],
   "source": [
    "for operator, usage in column_usage.items():\n",
    "    print (\"operator\", operator)\n",
    "    print (sorted(usage.items(), key = lambda x : -x[1]))\n",
    "    print (\"\\n\")"
   ]
  },
  {
   "cell_type": "code",
   "execution_count": null,
   "id": "41551321",
   "metadata": {},
   "outputs": [],
   "source": []
  },
  {
   "cell_type": "markdown",
   "id": "62835575",
   "metadata": {},
   "source": [
    "# TODOs:\n",
    "\n",
    "- Some columns do not have table prefixed (rating vs review.rating)"
   ]
  },
  {
   "cell_type": "code",
   "execution_count": null,
   "id": "36bd2afd",
   "metadata": {},
   "outputs": [],
   "source": []
  }
 ],
 "metadata": {
  "kernelspec": {
   "display_name": "Python 3 (ipykernel)",
   "language": "python",
   "name": "python3"
  },
  "language_info": {
   "codemirror_mode": {
    "name": "ipython",
    "version": 3
   },
   "file_extension": ".py",
   "mimetype": "text/x-python",
   "name": "python",
   "nbconvert_exporter": "python",
   "pygments_lexer": "ipython3",
   "version": "3.9.7"
  }
 },
 "nbformat": 4,
 "nbformat_minor": 5
}
