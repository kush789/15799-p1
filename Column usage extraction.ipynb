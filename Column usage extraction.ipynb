{
 "cells": [
  {
   "cell_type": "code",
   "execution_count": 12,
   "id": "c36732f8",
   "metadata": {},
   "outputs": [],
   "source": [
    "import pandas as pd\n",
    "import sqlparse\n",
    "import re\n",
    "from collections import defaultdict\n",
    "from sql_metadata import Parser\n",
    "import pprint\n",
    "\n",
    "from column_usage import get_column_usage_from_logs, parse_simple_logs, get_where_usage\n",
    "from index_generation import generate_all_indexes, prune_indexes, generate_create_index_commands"
   ]
  },
  {
   "cell_type": "markdown",
   "id": "fe4cf2ad",
   "metadata": {},
   "source": [
    "# (i) Epinions"
   ]
  },
  {
   "cell_type": "markdown",
   "id": "8c1de589",
   "metadata": {},
   "source": [
    "### Scale factor = 1000\n",
    "```\n",
    " Schema |     Name     | Type  |    Owner     | Persistence | Access method |  Size   | Description \n",
    "--------+--------------+-------+--------------+-------------+---------------+---------+-------------\n",
    " public | observations | table | project1user | permanent   | heap          | 5746 MB | \n",
    " public | sessions     | table | project1user | permanent   | heap          | 784 kB  | \n",
    " public | sources      | table | project1user | permanent   | heap          | 208 kB  | \n",
    " public | types        | table | project1user | permanent   | heap          | 1464 kB | \n",
    "```"
   ]
  },
  {
   "cell_type": "markdown",
   "id": "a9042d16",
   "metadata": {},
   "source": [
    "### Without index\n",
    "```\n",
    "{\n",
    " \"scalefactor\": \"100\",\n",
    " \"Current Timestamp (milliseconds)\": 1645652423106,\n",
    " \"Benchmark Type\": \"epinions\",\n",
    " \"isolation\": \"TRANSACTION_READ_COMMITTED\",\n",
    " \"DBMS Version\": \"PostgreSQL 14.2 (Ubuntu 14.2-1.pgdg20.04+1) on x86_64-pc-linux-gnu, compiled by gcc (Ubuntu 9.3.0-17ubuntu1~20.04) 9.3.0, 64-bit\",\n",
    " \"Goodput (requests/second)\": 19.59045481317814,\n",
    " \"terminals\": \"1\",\n",
    " \"DBMS Type\": \"POSTGRES\",\n",
    " \"Latency Distribution\": {\n",
    "  \"95th Percentile Latency (microseconds)\": 161233,\n",
    "  \"Maximum Latency (microseconds)\": 165597,\n",
    "  \"Median Latency (microseconds)\": 47476,\n",
    "  \"Minimum Latency (microseconds)\": 10717,\n",
    "  \"25th Percentile Latency (microseconds)\": 19026,\n",
    "  \"90th Percentile Latency (microseconds)\": 77681,\n",
    "  \"99th Percentile Latency (microseconds)\": 162937,\n",
    "  \"75th Percentile Latency (microseconds)\": 57150,\n",
    "  \"Average Latency (microseconds)\": 51774\n",
    " },\n",
    " \"Throughput (requests/second)\": 19.262581092455495\n",
    "}\n",
    "```"
   ]
  },
  {
   "cell_type": "code",
   "execution_count": 13,
   "id": "fe0d124a",
   "metadata": {},
   "outputs": [
    {
     "name": "stdout",
     "output_type": "stream",
     "text": [
      "Total log lines:  3791\n"
     ]
    }
   ],
   "source": [
    "log_file_path = \"data/epinions_scale_100_rate_unlimited_time_60_simple.csv\"\n",
    "log_file_dataframe = pd.read_csv(log_file_path, header=None)\n",
    "epinions_parsing_success, epinions_column_usage, epinions_where_predicates = parse_simple_logs(log_file_dataframe)"
   ]
  },
  {
   "cell_type": "code",
   "execution_count": 14,
   "id": "24dbb999",
   "metadata": {},
   "outputs": [
    {
     "name": "stdout",
     "output_type": "stream",
     "text": [
      "{'failure': 7,\n",
      " 'failure_reason': defaultdict(<function parse_simple_logs.<locals>.<lambda> at 0x11c13cee0>, {}),\n",
      " 'skipped': 2450,\n",
      " 'skipped_log_type': defaultdict(<function parse_simple_logs.<locals>.<lambda> at 0x11c13ce50>, {}),\n",
      " 'success': 1314,\n",
      " 'success_log_type': defaultdict(<function parse_simple_logs.<locals>.<lambda> at 0x11c13c8b0>, {})}\n"
     ]
    }
   ],
   "source": [
    "pprint.pprint(epinions_parsing_success)"
   ]
  },
  {
   "cell_type": "code",
   "execution_count": 15,
   "id": "e4c36fde",
   "metadata": {},
   "outputs": [
    {
     "name": "stdout",
     "output_type": "stream",
     "text": [
      "defaultdict(<function parse_simple_logs.<locals>.<lambda> at 0x11c13c670>,\n",
      "            {'order_by': defaultdict(<function parse_simple_logs.<locals>.<lambda>.<locals>.<lambda> at 0x11bf7df70>,\n",
      "                                     {'rating': 239,\n",
      "                                      'review.creation_date': 356}),\n",
      "             'select': defaultdict(<function parse_simple_logs.<locals>.<lambda>.<locals>.<lambda> at 0x11b792160>,\n",
      "                                   {'*': 239,\n",
      "                                    'item.i_id': 1,\n",
      "                                    'rating': 110,\n",
      "                                    'review.*': 117,\n",
      "                                    'review.rating': 121,\n",
      "                                    'trust.*': 117,\n",
      "                                    'useracct.u_id': 1}),\n",
      "             'update': defaultdict(<function parse_simple_logs.<locals>.<lambda>.<locals>.<lambda> at 0x11bf7de50>,\n",
      "                                   {'item.title': 124,\n",
      "                                    'review.rating': 117,\n",
      "                                    'trust.trust': 250,\n",
      "                                    'useracct.name': 117}),\n",
      "             'where': defaultdict(<function parse_simple_logs.<locals>.<lambda>.<locals>.<lambda> at 0x11bf7da60>,\n",
      "                                  {'item.i_id': 252,\n",
      "                                   'review.i_id': 593,\n",
      "                                   'review.u_id': 338,\n",
      "                                   'trust.source_u_id': 477,\n",
      "                                   'trust.target_u_id': 360,\n",
      "                                   'useracct.u_id': 228})})\n"
     ]
    }
   ],
   "source": [
    "pprint.pprint(epinions_column_usage)"
   ]
  },
  {
   "cell_type": "code",
   "execution_count": 16,
   "id": "d3072c9f",
   "metadata": {},
   "outputs": [
    {
     "name": "stdout",
     "output_type": "stream",
     "text": [
      "defaultdict(<function parse_simple_logs.<locals>.<lambda> at 0x11c13c940>,\n",
      "            {(('item.i_id', None),): 124,\n",
      "             (('item.i_id', 'review.i_id'), ('review.i_id', None)): 128,\n",
      "             (('review.i_id', None),): 238,\n",
      "             (('review.i_id', None), ('review.u_id', None)): 117,\n",
      "             (('review.u_id', 'trust.target_u_id'), ('review.i_id', None), ('trust.source_u_id', None)): 110,\n",
      "             (('trust.source_u_id', None),): 117,\n",
      "             (('trust.source_u_id', None), ('trust.target_u_id', None)): 250,\n",
      "             (('useracct.u_id', None),): 117,\n",
      "             (('useracct.u_id', 'review.u_id'), ('review.u_id', None)): 111})\n"
     ]
    }
   ],
   "source": [
    "pprint.pprint(epinions_where_predicates)"
   ]
  },
  {
   "cell_type": "markdown",
   "id": "9a248bce",
   "metadata": {},
   "source": [
    "### Adding single indices:\n",
    "\n",
    "`CREATE INDEX idx_rewview_iid ON review (i_id);`\n",
    "\n",
    "`CREATE INDEX idx_trust_sid ON trust (source_u_id);`\n",
    "\n",
    "`CREATE INDEX idx_trust_tid ON trust (target_u_id);`\n",
    "\n",
    "`CREATE INDEX idx_review_uid ON review (u_id);`\n",
    "\n",
    "`CREATE INDEX idx_item_iid ON item (i_id);`\n",
    "\n",
    "`CREATE INDEX idx_useracct_uid ON useracct (u_id);`\n",
    "\n",
    "\n",
    "```\n",
    "{\n",
    " \"scalefactor\": \"100\",\n",
    " \"Current Timestamp (milliseconds)\": 1645655337931,\n",
    " \"Benchmark Type\": \"epinions\",\n",
    " \"isolation\": \"TRANSACTION_READ_COMMITTED\",\n",
    " \"DBMS Version\": \"PostgreSQL 14.2 (Ubuntu 14.2-1.pgdg20.04+1) on x86_64-pc-linux-gnu, compiled by gcc (Ubuntu 9.3.0-17ubuntu1~20.04) 9.3.0, 64-bit\",\n",
    " \"Goodput (requests/second)\": 1997.9683018947728,\n",
    " \"terminals\": \"1\",\n",
    " \"DBMS Type\": \"POSTGRES\",\n",
    " \"Latency Distribution\": {\n",
    "  \"95th Percentile Latency (microseconds)\": 1211,\n",
    "  \"Maximum Latency (microseconds)\": 34752,\n",
    "  \"Median Latency (microseconds)\": 322,\n",
    "  \"Minimum Latency (microseconds)\": 109,\n",
    "  \"25th Percentile Latency (microseconds)\": 222,\n",
    "  \"90th Percentile Latency (microseconds)\": 1069,\n",
    "  \"99th Percentile Latency (microseconds)\": 1859,\n",
    "  \"75th Percentile Latency (microseconds)\": 739,\n",
    "  \"Average Latency (microseconds)\": 505\n",
    " },\n",
    " \"Throughput (requests/second)\": 1969.9516633065623\n",
    "}\n",
    "```"
   ]
  },
  {
   "cell_type": "code",
   "execution_count": 18,
   "id": "58ce8230",
   "metadata": {},
   "outputs": [
    {
     "data": {
      "text/plain": [
       "['CREATE INDEX idx_trust_source_u_id_target_u_id ON trust (source_u_id, target_u_id)',\n",
       " 'CREATE INDEX idx_review_u_id ON review (u_id)',\n",
       " 'CREATE INDEX idx_review_i_id_u_id ON review (i_id, u_id)',\n",
       " 'CREATE INDEX idx_item_i_id ON item (i_id)',\n",
       " 'CREATE INDEX idx_useracct_u_id ON useracct (u_id)']"
      ]
     },
     "execution_count": 18,
     "metadata": {},
     "output_type": "execute_result"
    }
   ],
   "source": [
    "generate_create_index_commands(prune_indexes(generate_all_indexes(epinions_column_usage, epinions_where_predicates)))"
   ]
  },
  {
   "cell_type": "markdown",
   "id": "12d752de",
   "metadata": {},
   "source": [
    "### Adding multi indices:\n",
    "\n",
    "`CREATE INDEX idx_trust_comb ON trust (source_u_id, target_u_id);`\n",
    "\n",
    "`CREATE INDEX idx_review_comb ON review (i_id, u_id);`\n",
    "\n",
    "`CREATE INDEX idx_item_iid ON item (i_id);`\n",
    "\n",
    "`CREATE INDEX idx_useracct_uid ON useracct (u_id);`\n",
    "\n",
    "`CREATE INDEX idx_review_uid ON review (u_id);`\n",
    "\n",
    "`CREATE INDEX idx_trust_tid ON trust (target_u_id);`\n",
    "\n",
    "```\n",
    "{\n",
    " \"scalefactor\": \"100\",\n",
    " \"Current Timestamp (milliseconds)\": 1645657598501,\n",
    " \"Benchmark Type\": \"epinions\",\n",
    " \"isolation\": \"TRANSACTION_READ_COMMITTED\",\n",
    " \"DBMS Version\": \"PostgreSQL 14.2 (Ubuntu 14.2-1.pgdg20.04+1) on x86_64-pc-linux-gnu, compiled by gcc (Ubuntu 9.3.0-17ubuntu1~20.04) 9.3.0, 64-bit\",\n",
    " \"Goodput (requests/second)\": 2024.5618091032316,\n",
    " \"terminals\": \"1\",\n",
    " \"DBMS Type\": \"POSTGRES\",\n",
    " \"Latency Distribution\": {\n",
    "  \"95th Percentile Latency (microseconds)\": 1226,\n",
    "  \"Maximum Latency (microseconds)\": 35793,\n",
    "  \"Median Latency (microseconds)\": 312,\n",
    "  \"Minimum Latency (microseconds)\": 105,\n",
    "  \"25th Percentile Latency (microseconds)\": 211,\n",
    "  \"90th Percentile Latency (microseconds)\": 1070,\n",
    "  \"99th Percentile Latency (microseconds)\": 1902,\n",
    "  \"75th Percentile Latency (microseconds)\": 733,\n",
    "  \"Average Latency (microseconds)\": 499\n",
    " },\n",
    " \"Throughput (requests/second)\": 1991.4621610037952\n",
    "}\n",
    "```"
   ]
  },
  {
   "cell_type": "code",
   "execution_count": null,
   "id": "d78a627e",
   "metadata": {},
   "outputs": [],
   "source": []
  },
  {
   "cell_type": "code",
   "execution_count": null,
   "id": "a9447114",
   "metadata": {},
   "outputs": [],
   "source": []
  },
  {
   "cell_type": "code",
   "execution_count": null,
   "id": "86d078c8",
   "metadata": {},
   "outputs": [],
   "source": []
  },
  {
   "cell_type": "markdown",
   "id": "14786f4e",
   "metadata": {},
   "source": [
    "# (ii) Jungle"
   ]
  },
  {
   "cell_type": "markdown",
   "id": "fcedb318",
   "metadata": {},
   "source": [
    "### Scale factor = 1000\n",
    "```\n",
    " Schema |     Name      | Type  |    Owner     | Persistence | Access method |  Size   | Description \n",
    "--------+---------------+-------+--------------+-------------+---------------+---------+-------------\n",
    " public | jungle        | table | project1user | permanent   | heap          | 6011 MB | \n",
    "```"
   ]
  },
  {
   "cell_type": "markdown",
   "id": "c2e8f3cf",
   "metadata": {},
   "source": [
    "### Without index\n",
    "\n",
    "```\n",
    "{\n",
    "    \"scalefactor\": \"1000\",\n",
    "    \"Current Timestamp (milliseconds)\": 1645468671728,\n",
    "    \"Benchmark Type\": \"indexjungle\",\n",
    "    \"isolation\": null,\n",
    "    \"DBMS Version\": \"PostgreSQL 14.2 (Ubuntu 14.2-1.pgdg20.04+1) on x86_64-pc-linux-gnu, compiled by gcc (Ubuntu 9.3.0-17ubuntu1~20.04) 9.3.0, 64-bit\",\n",
    "    \"Goodput (requests/second)\": 1.6112963871000103,\n",
    "    \"terminals\": \"1\",\n",
    "    \"DBMS Type\": \"POSTGRES\",\n",
    "    \"Latency Distribution\": {\n",
    "        \"95th Percentile Latency (microseconds)\": 632282,\n",
    "        \"Maximum Latency (microseconds)\": 646268,\n",
    "        \"Median Latency (microseconds)\": 623239,\n",
    "        \"Minimum Latency (microseconds)\": 607371,\n",
    "        \"25th Percentile Latency (microseconds)\": 619141,\n",
    "        \"90th Percentile Latency (microseconds)\": 630341,\n",
    "        \"99th Percentile Latency (microseconds)\": 644008,\n",
    "        \"75th Percentile Latency (microseconds)\": 627854,\n",
    "        \"Average Latency (microseconds)\": 623411\n",
    "    },\n",
    "    \"Throughput (requests/second)\": 1.601329605324134\n",
    "}\n",
    "```"
   ]
  },
  {
   "cell_type": "code",
   "execution_count": null,
   "id": "99bd9584",
   "metadata": {},
   "outputs": [],
   "source": [
    "log_file_path = \"./data/jungle_scale_1000_rate_unlimited_time_600_simple.csv\"\n",
    "log_file_dataframe = pd.read_csv(log_file_path, header=None)\n",
    "jungle_parsing_success, jungle_column_usage, jungle_where_predicates = parse_simple_logs(log_file_dataframe)"
   ]
  },
  {
   "cell_type": "code",
   "execution_count": null,
   "id": "1fab88cc",
   "metadata": {},
   "outputs": [],
   "source": [
    "pprint.pprint(jungle_parsing_success)"
   ]
  },
  {
   "cell_type": "code",
   "execution_count": null,
   "id": "74389d4e",
   "metadata": {},
   "outputs": [],
   "source": [
    "pprint.pprint(jungle_column_usage)"
   ]
  },
  {
   "cell_type": "code",
   "execution_count": null,
   "id": "d2907940",
   "metadata": {},
   "outputs": [],
   "source": [
    "pprint.pprint(jungle_where_predicates)"
   ]
  },
  {
   "cell_type": "code",
   "execution_count": null,
   "id": "57adc4fe",
   "metadata": {},
   "outputs": [],
   "source": [
    "generate_create_index_commands(prune_indexes(generate_all_indexes(jungle_column_usage, jungle_where_predicates)))"
   ]
  },
  {
   "cell_type": "markdown",
   "id": "5ea9af8e",
   "metadata": {},
   "source": [
    "### Added index: \n",
    "\n",
    "`CREATE INDEX idx_jungle_int_field3 ON jungle (int_field3);`\n",
    "```\n",
    "{\n",
    " \"scalefactor\": \"1000\",\n",
    " \"Current Timestamp (milliseconds)\": 1645469508485,\n",
    " \"Benchmark Type\": \"indexjungle\",\n",
    " \"isolation\": null,\n",
    " \"DBMS Version\": \"PostgreSQL 14.2 (Ubuntu 14.2-1.pgdg20.04+1) on x86_64-pc-linux-gnu, compiled by gcc (Ubuntu 9.3.0-17ubuntu1~20.04) 9.3.0, 64-bit\",\n",
    " \"Goodput (requests/second)\": 1383.0397270709402,\n",
    " \"terminals\": \"1\",\n",
    " \"DBMS Type\": \"POSTGRES\",\n",
    " \"Latency Distribution\": {\n",
    "  \"95th Percentile Latency (microseconds)\": 1251,\n",
    "  \"Maximum Latency (microseconds)\": 7005,\n",
    "  \"Median Latency (microseconds)\": 711,\n",
    "  \"Minimum Latency (microseconds)\": 150,\n",
    "  \"25th Percentile Latency (microseconds)\": 435,\n",
    "  \"90th Percentile Latency (microseconds)\": 1173,\n",
    "  \"99th Percentile Latency (microseconds)\": 1408,\n",
    "  \"75th Percentile Latency (microseconds)\": 997,\n",
    "  \"Average Latency (microseconds)\": 722\n",
    " },\n",
    " \"Throughput (requests/second)\": 1382.1797272406525\n",
    "}\n",
    "```"
   ]
  },
  {
   "cell_type": "code",
   "execution_count": null,
   "id": "eac6a572",
   "metadata": {},
   "outputs": [],
   "source": []
  },
  {
   "cell_type": "code",
   "execution_count": null,
   "id": "ad0d41ef",
   "metadata": {},
   "outputs": [],
   "source": []
  },
  {
   "cell_type": "code",
   "execution_count": null,
   "id": "722e5b5f",
   "metadata": {},
   "outputs": [],
   "source": []
  },
  {
   "cell_type": "markdown",
   "id": "5768580a",
   "metadata": {},
   "source": [
    "# (iii) Timeseries"
   ]
  },
  {
   "cell_type": "markdown",
   "id": "1fde7ca4",
   "metadata": {},
   "source": [
    "### Scale factor = 10\n",
    "```\n",
    " Schema |     Name     | Type  |    Owner     | Persistence | Access method |  Size   | Description \n",
    "--------+--------------+-------+--------------+-------------+---------------+---------+-------------\n",
    " public | observations | table | project1user | permanent   | heap          | 5746 MB | \n",
    " public | sessions     | table | project1user | permanent   | heap          | 784 kB  | \n",
    " public | sources      | table | project1user | permanent   | heap          | 208 kB  | \n",
    " public | types        | table | project1user | permanent   | heap          | 1464 kB | \n",
    "```"
   ]
  },
  {
   "cell_type": "markdown",
   "id": "8c462e09",
   "metadata": {},
   "source": [
    "### Without index\n",
    "```\n",
    "{\n",
    " \"scalefactor\": \"10\",\n",
    " \"Current Timestamp (milliseconds)\": 1645546729938,\n",
    " \"Benchmark Type\": \"timeseries\",\n",
    " \"isolation\": null,\n",
    " \"DBMS Version\": \"PostgreSQL 14.2 (Ubuntu 14.2-1.pgdg20.04+1) on x86_64-pc-linux-gnu, compiled by gcc (Ubuntu 9.3.0-17ubuntu1~20.04) 9.3.0, 64-bit\",\n",
    " \"Goodput (requests/second)\": 0.591362724923002,\n",
    " \"terminals\": \"1\",\n",
    " \"DBMS Type\": \"POSTGRES\",\n",
    " \"Latency Distribution\": {\n",
    "  \"95th Percentile Latency (microseconds)\": 1884720,\n",
    "  \"Maximum Latency (microseconds)\": 1931072,\n",
    "  \"Median Latency (microseconds)\": 1687350,\n",
    "  \"Minimum Latency (microseconds)\": 1553243,\n",
    "  \"25th Percentile Latency (microseconds)\": 1659923,\n",
    "  \"90th Percentile Latency (microseconds)\": 1845196,\n",
    "  \"99th Percentile Latency (microseconds)\": 1921746,\n",
    "  \"75th Percentile Latency (microseconds)\": 1726973,\n",
    "  \"Average Latency (microseconds)\": 1705219\n",
    " },\n",
    " \"Throughput (requests/second)\": 0.5847181999238672\n",
    "}\n",
    "```"
   ]
  },
  {
   "cell_type": "code",
   "execution_count": 7,
   "id": "f11504f6",
   "metadata": {},
   "outputs": [
    {
     "name": "stdout",
     "output_type": "stream",
     "text": [
      "Total log lines:  616\n"
     ]
    }
   ],
   "source": [
    "log_file_path = \"./data/timeseries_scale_10_rate_unlimited_time_300_simple.csv\"\n",
    "log_file_dataframe = pd.read_csv(log_file_path, header=None)\n",
    "timeseries_parsing_success, timeseries_column_usage, timeseries_where_predicates = parse_simple_logs(log_file_dataframe)\n"
   ]
  },
  {
   "cell_type": "code",
   "execution_count": 8,
   "id": "8c19df13",
   "metadata": {},
   "outputs": [
    {
     "name": "stdout",
     "output_type": "stream",
     "text": [
      "{'failure': 6,\n",
      " 'failure_reason': defaultdict(<function parse_simple_logs.<locals>.<lambda> at 0x11c13c9d0>, {}),\n",
      " 'skipped': 412,\n",
      " 'skipped_log_type': defaultdict(<function parse_simple_logs.<locals>.<lambda> at 0x11c13c040>, {}),\n",
      " 'success': 180,\n",
      " 'success_log_type': defaultdict(<function parse_simple_logs.<locals>.<lambda> at 0x11c13c3a0>, {})}\n"
     ]
    }
   ],
   "source": [
    "pprint.pprint(timeseries_parsing_success)"
   ]
  },
  {
   "cell_type": "code",
   "execution_count": 9,
   "id": "84bae343",
   "metadata": {},
   "outputs": [
    {
     "name": "stdout",
     "output_type": "stream",
     "text": [
      "defaultdict(<function parse_simple_logs.<locals>.<lambda> at 0x11bf7d670>,\n",
      "            {'order_by': defaultdict(<function parse_simple_logs.<locals>.<lambda>.<locals>.<lambda> at 0x11b5ceca0>,\n",
      "                                     {'observations.created_time': 180}),\n",
      "             'select': defaultdict(<function parse_simple_logs.<locals>.<lambda>.<locals>.<lambda> at 0x11b5ce9d0>,\n",
      "                                   {'observations.*': 180}),\n",
      "             'where': defaultdict(<function parse_simple_logs.<locals>.<lambda>.<locals>.<lambda> at 0x11b5ceee0>,\n",
      "                                  {'observations.session_id': 180,\n",
      "                                   'observations.source_id': 180,\n",
      "                                   'observations.type_id': 180})})\n"
     ]
    }
   ],
   "source": [
    "pprint.pprint(timeseries_column_usage)"
   ]
  },
  {
   "cell_type": "code",
   "execution_count": 10,
   "id": "e82bf62e",
   "metadata": {},
   "outputs": [
    {
     "name": "stdout",
     "output_type": "stream",
     "text": [
      "defaultdict(<function parse_simple_logs.<locals>.<lambda> at 0x11b5cef70>,\n",
      "            {(('observations.source_id', None), ('observations.session_id', None), ('observations.session_id', None), ('observations.type_id', None)): 180})\n"
     ]
    }
   ],
   "source": [
    "pprint.pprint(timeseries_where_predicates)"
   ]
  },
  {
   "cell_type": "markdown",
   "id": "43154d02",
   "metadata": {},
   "source": [
    "### Adding single indices:\n",
    "\n",
    "`CREATE INDEX idx_observations_created_time ON observations (created_time);`\n",
    "\n",
    "`CREATE INDEX idx_observations_session_id ON observations (session_id);`\n",
    "\n",
    "`CREATE INDEX idx_observations_source_id ON observations (source_id);`\n",
    "\n",
    "`CREATE INDEX idx_observations_type_id ON observations (type_id);`\n",
    "\n",
    "```\n",
    "{\n",
    " \"scalefactor\": \"10\",\n",
    " \"Current Timestamp (milliseconds)\": 1645555654179,\n",
    " \"Benchmark Type\": \"timeseries\",\n",
    " \"isolation\": null,\n",
    " \"DBMS Version\": \"PostgreSQL 14.2 (Ubuntu 14.2-1.pgdg20.04+1) on x86_64-pc-linux-gnu, compiled by gcc (Ubuntu 9.3.0-17ubuntu1~20.04) 9.3.0, 64-bit\",\n",
    " \"Goodput (requests/second)\": 25.843852375660493,\n",
    " \"terminals\": \"1\",\n",
    " \"DBMS Type\": \"POSTGRES\",\n",
    " \"Latency Distribution\": {\n",
    "  \"95th Percentile Latency (microseconds)\": 66818,\n",
    "  \"Maximum Latency (microseconds)\": 86139,\n",
    "  \"Median Latency (microseconds)\": 41596,\n",
    "  \"Minimum Latency (microseconds)\": 4061,\n",
    "  \"25th Percentile Latency (microseconds)\": 29577,\n",
    "  \"90th Percentile Latency (microseconds)\": 63509,\n",
    "  \"99th Percentile Latency (microseconds)\": 74320,\n",
    "  \"75th Percentile Latency (microseconds)\": 53250,\n",
    "  \"Average Latency (microseconds)\": 38786\n",
    " },\n",
    " \"Throughput (requests/second)\": 25.764118160849353\n",
    "}\n",
    "```"
   ]
  },
  {
   "cell_type": "code",
   "execution_count": 11,
   "id": "6ec3a910",
   "metadata": {
    "scrolled": true
   },
   "outputs": [
    {
     "data": {
      "text/plain": [
       "['CREATE INDEX idx_observations_session_id_source_id_type_id ON observations (session_id, source_id, type_id)']"
      ]
     },
     "execution_count": 11,
     "metadata": {},
     "output_type": "execute_result"
    }
   ],
   "source": [
    "generate_create_index_commands(prune_indexes(generate_all_indexes(timeseries_column_usage, timeseries_where_predicates)))\n"
   ]
  },
  {
   "cell_type": "markdown",
   "id": "19c4d25f",
   "metadata": {},
   "source": [
    "### Adding multiindex:\n",
    "\n",
    "`CREATE INDEX idx_observations_comb ON observations (source_id, session_id, type_id);`\n",
    "\n",
    "```\n",
    "{\n",
    " \"scalefactor\": \"10\",\n",
    " \"Current Timestamp (milliseconds)\": 1645556187951,\n",
    " \"Benchmark Type\": \"timeseries\",\n",
    " \"isolation\": null,\n",
    " \"DBMS Version\": \"PostgreSQL 14.2 (Ubuntu 14.2-1.pgdg20.04+1) on x86_64-pc-linux-gnu, compiled by gcc (Ubuntu 9.3.0-17ubuntu1~20.04) 9.3.0, 64-bit\",\n",
    " \"Goodput (requests/second)\": 1514.628448292875,\n",
    " \"terminals\": \"1\",\n",
    " \"DBMS Type\": \"POSTGRES\",\n",
    " \"Latency Distribution\": {\n",
    "  \"95th Percentile Latency (microseconds)\": 1157,\n",
    "  \"Maximum Latency (microseconds)\": 5221,\n",
    "  \"Median Latency (microseconds)\": 607,\n",
    "  \"Minimum Latency (microseconds)\": 230,\n",
    "  \"25th Percentile Latency (microseconds)\": 459,\n",
    "  \"90th Percentile Latency (microseconds)\": 1038,\n",
    "  \"99th Percentile Latency (microseconds)\": 1346,\n",
    "  \"75th Percentile Latency (microseconds)\": 812,\n",
    "  \"Average Latency (microseconds)\": 660\n",
    " },\n",
    " \"Throughput (requests/second)\": 1512.1035304469679\n",
    "}\n",
    "```\n",
    "\n",
    "### Adding index on sorted field:\n",
    "\n",
    "\\+ `CREATE INDEX idx_observations_created_time ON observations (created_time);`\n",
    "\n",
    "```\n",
    "{\n",
    " \"scalefactor\": \"10\",\n",
    " \"Current Timestamp (milliseconds)\": 1645556588675,\n",
    " \"Benchmark Type\": \"timeseries\",\n",
    " \"isolation\": null,\n",
    " \"DBMS Version\": \"PostgreSQL 14.2 (Ubuntu 14.2-1.pgdg20.04+1) on x86_64-pc-linux-gnu, compiled by gcc (Ubuntu 9.3.0-17ubuntu1~20.04) 9.3.0, 64-bit\",\n",
    " \"Goodput (requests/second)\": 1482.5532255022954,\n",
    " \"terminals\": \"1\",\n",
    " \"DBMS Type\": \"POSTGRES\",\n",
    " \"Latency Distribution\": {\n",
    "  \"95th Percentile Latency (microseconds)\": 1176,\n",
    "  \"Maximum Latency (microseconds)\": 4890,\n",
    "  \"Median Latency (microseconds)\": 620,\n",
    "  \"Minimum Latency (microseconds)\": 236,\n",
    "  \"25th Percentile Latency (microseconds)\": 473,\n",
    "  \"90th Percentile Latency (microseconds)\": 1056,\n",
    "  \"99th Percentile Latency (microseconds)\": 1371,\n",
    "  \"75th Percentile Latency (microseconds)\": 826,\n",
    "  \"Average Latency (microseconds)\": 674\n",
    " },\n",
    " \"Throughput (requests/second)\": 1480.0398923517653\n",
    "}\n",
    "```"
   ]
  },
  {
   "cell_type": "code",
   "execution_count": null,
   "id": "ec62ef0f",
   "metadata": {},
   "outputs": [],
   "source": []
  },
  {
   "cell_type": "code",
   "execution_count": null,
   "id": "ebdbd56a",
   "metadata": {},
   "outputs": [],
   "source": []
  },
  {
   "cell_type": "markdown",
   "id": "62835575",
   "metadata": {},
   "source": [
    "# TODOs:\n",
    "\n",
    "- Some columns do not have table prefixed (rating vs review.rating)\n",
    "- Fix column usage; is it even required?"
   ]
  },
  {
   "cell_type": "code",
   "execution_count": null,
   "id": "36bd2afd",
   "metadata": {},
   "outputs": [],
   "source": []
  },
  {
   "cell_type": "code",
   "execution_count": null,
   "id": "25b861a8",
   "metadata": {},
   "outputs": [],
   "source": []
  }
 ],
 "metadata": {
  "kernelspec": {
   "display_name": "Python 3 (ipykernel)",
   "language": "python",
   "name": "python3"
  },
  "language_info": {
   "codemirror_mode": {
    "name": "ipython",
    "version": 3
   },
   "file_extension": ".py",
   "mimetype": "text/x-python",
   "name": "python",
   "nbconvert_exporter": "python",
   "pygments_lexer": "ipython3",
   "version": "3.9.10"
  }
 },
 "nbformat": 4,
 "nbformat_minor": 5
}
